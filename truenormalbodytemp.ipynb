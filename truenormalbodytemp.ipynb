{
 "cells": [
  {
   "cell_type": "markdown",
   "metadata": {},
   "source": [
    "# What is the True Normal Human Body Temperature? \n",
    "\n",
    "#### Background\n",
    "\n",
    "The mean normal body temperature was held to be 37$^{\\circ}$C or 98.6$^{\\circ}$F for more than 120 years since it was first conceptualized and reported by Carl Wunderlich in a famous 1868 book. But, is this value statistically correct?"
   ]
  },
  {
   "cell_type": "code",
   "execution_count": 1,
   "metadata": {},
   "outputs": [],
   "source": [
    "%matplotlib inline\n",
    "import pandas as pd\n",
    "import numpy as np\n",
    "import matplotlib.pyplot as plt\n",
    "import scipy.stats as stats\n",
    "import seaborn as sns\n",
    "\n",
    "df = pd.read_csv('data/human_body_temperature.csv')"
   ]
  },
  {
   "cell_type": "markdown",
   "metadata": {},
   "source": [
    "## Is the distribution of body temperatures normal?"
   ]
  },
  {
   "cell_type": "markdown",
   "metadata": {},
   "source": [
    "To determine if our distribution of body temperatures are\n",
    "normal, we can first visualize it by plotting a histogram.\n",
    "\n",
    "Just by looking at the graph, we can already see patterns\n",
    "of normal distribution such as more datapoints near the\n",
    "median and less at the ends."
   ]
  },
  {
   "cell_type": "code",
   "execution_count": 2,
   "metadata": {},
   "outputs": [
    {
     "data": {
      "text/plain": [
       "<matplotlib.axes._subplots.AxesSubplot at 0x29049fae2b0>"
      ]
     },
     "execution_count": 2,
     "metadata": {},
     "output_type": "execute_result"
    },
    {
     "data": {
      "image/png": "[encoded data removed]",
      "text/plain": [
       "<matplotlib.figure.Figure at 0x29046615278>"
      ]
     },
     "metadata": {},
     "output_type": "display_data"
    }
   ],
   "source": [
    "body_temp = df['temperature']\n",
    "sns.distplot(body_temp)"
   ]
  },
  {
   "cell_type": "markdown",
   "metadata": {},
   "source": [
    "However, just to be sure, let's use a normal distribution test from SciPy.\n",
    "\n",
    "Our hypothesis is: The distribution of temperatures are normal.\n",
    "\n",
    "Our null hypothesis: The distribution of temperatures are not normal.\n",
    "\n",
    "Since our p-value is greater than 0.05, we can reject the null hypothesis\n",
    "with confidence."
   ]
  },
  {
   "cell_type": "code",
   "execution_count": 3,
   "metadata": {},
   "outputs": [
    {
     "data": {
      "text/plain": [
       "NormaltestResult(statistic=2.7038014333192031, pvalue=0.2587479863488254)"
      ]
     },
     "execution_count": 3,
     "metadata": {},
     "output_type": "execute_result"
    }
   ],
   "source": [
    "stats.normaltest(body_temp)"
   ]
  },
  {
   "cell_type": "markdown",
   "metadata": {},
   "source": [
    "## Is the sample size large?"
   ]
  },
  {
   "cell_type": "markdown",
   "metadata": {},
   "source": [
    "Is 130 people adequate for a sample size? Since we don't have the population ready, we can redirect our approach into confidence levels and margin of error. \n",
    "\n",
    "For example, it's desirable to have a 95% confidence rate ± 5% as a margin of error.\n",
    "\n",
    "For this to work we would need a minimum sample size to be 95 ± 5% confident.\n",
    "\n",
    "![](https://cdn.smassets.net/wp-content/uploads/2014/10/sample-size-calculator-equation-Google-Docs-300x111.png)\n",
    "![](https://cdn.smassets.net/wp-content/uploads/2014/10/sample-size-calculation-z-scores.png)"
   ]
  },
  {
   "cell_type": "code",
   "execution_count": 4,
   "metadata": {},
   "outputs": [],
   "source": [
    "def nec_samp_size(popsize, marginoferror, zscore):\n",
    "    stdev = 0.50\n",
    "    x = (zscore**2) * (stdev) * (1-stdev)\n",
    "    y = marginoferror**2\n",
    "    z = y*popsize\n",
    "    a = x / y\n",
    "    b = x / z\n",
    "    nec_samp_size = a / (1 + b)\n",
    "    print(\"Necessary sample size: \", '%.0f' % nec_samp_size)"
   ]
  },
  {
   "cell_type": "code",
   "execution_count": 5,
   "metadata": {},
   "outputs": [
    {
     "name": "stdout",
     "output_type": "stream",
     "text": [
      "Necessary sample size:  384\n"
     ]
    }
   ],
   "source": [
    "nec_samp_size(1000000, 0.05, 1.96)"
   ]
  },
  {
   "cell_type": "code",
   "execution_count": 6,
   "metadata": {},
   "outputs": [
    {
     "name": "stdout",
     "output_type": "stream",
     "text": [
      "Actual sample size: 130\n"
     ]
    }
   ],
   "source": [
    "print(\"Actual sample size:\", len(df))"
   ]
  },
  {
   "cell_type": "markdown",
   "metadata": {},
   "source": [
    "So assuming that our population is at least 1 million people, we would need at least 384 respondants to be 95 ± 5% confident.\n",
    "\n",
    "However, we only have 180 respondants. Thus, our sample size is too small for our desired parameters.\n",
    "\n",
    "Let's change our standards to 90 ± 10% confident."
   ]
  },
  {
   "cell_type": "code",
   "execution_count": 7,
   "metadata": {},
   "outputs": [
    {
     "name": "stdout",
     "output_type": "stream",
     "text": [
      "Necessary sample size:  68\n"
     ]
    }
   ],
   "source": [
    "nec_samp_size(1000000, 0.10, 1.65)"
   ]
  },
  {
   "cell_type": "markdown",
   "metadata": {},
   "source": [
    "Since the necessary sample size for 90 ± 10% confidence is at least 68 respondance for 1 million people, we can say that our sample size is adequate!"
   ]
  },
  {
   "cell_type": "markdown",
   "metadata": {},
   "source": [
    "## Are the observations independent?"
   ]
  },
  {
   "cell_type": "markdown",
   "metadata": {},
   "source": [
    "Looking at our regression plot using seaborn, the data points do not follow a trend.\n",
    "Thus, we can conclude that the observations are independent due to high heart rates being\n",
    "independent to high temperatures."
   ]
  },
  {
   "cell_type": "code",
   "execution_count": 8,
   "metadata": {},
   "outputs": [
    {
     "data": {
      "text/plain": [
       "<matplotlib.axes._subplots.AxesSubplot at 0x2904a3eef28>"
      ]
     },
     "execution_count": 8,
     "metadata": {},
     "output_type": "execute_result"
    },
    {
     "data": {
      "image/png": "[encoded data removed]",
      "text/plain": [
       "<matplotlib.figure.Figure at 0x2904a3df438>"
      ]
     },
     "metadata": {},
     "output_type": "display_data"
    }
   ],
   "source": [
    "## Normalizing data for comparison\n",
    "\n",
    "df_th = df[[\"temperature\", \"heart_rate\"]]\n",
    "df_norm = (df_th - df_th.mean()) / (df_th.max() - df_th.min())\n",
    "\n",
    "sns.regplot(df_norm['temperature'], df_norm['heart_rate'])"
   ]
  },
  {
   "cell_type": "markdown",
   "metadata": {},
   "source": [
    "## Is the true population mean really 98.6 degrees F? "
   ]
  },
  {
   "cell_type": "markdown",
   "metadata": {},
   "source": [
    "Since we are assuming the population mean to be 98.6 degrees F, we can use a one sample t-test to see if there is a significant difference between 98.6 degrees F and the mean for this data set.\n",
    "\n",
    "Null Hypothesis: The population mean is 98.6 degrees F. [no difference in mean]\n",
    "\n",
    "Alternative Hypothesis: The population mean is less than 98.6 degrees F. [difference in mean]\n",
    "\n",
    "Since our p-value is less than 0.01, we can reject our null hypothesis with 99% confidence."
   ]
  },
  {
   "cell_type": "code",
   "execution_count": 9,
   "metadata": {},
   "outputs": [
    {
     "data": {
      "text/plain": [
       "Ttest_1sampResult(statistic=-5.4548232923645195, pvalue=2.4106320415561276e-07)"
      ]
     },
     "execution_count": 9,
     "metadata": {},
     "output_type": "execute_result"
    }
   ],
   "source": [
    "stats.ttest_1samp(df['temperature'], popmean=98.6)"
   ]
  },
  {
   "cell_type": "markdown",
   "metadata": {},
   "source": [
    "## At what temperature should we consider someone's temperature to be \"abnormal\"? "
   ]
  },
  {
   "cell_type": "markdown",
   "metadata": {},
   "source": [
    "Since we are already getting an idea of the average temperatures for men and women, we can make an inference on when body temperature is getting abnormal. Rather than taking a biological approach, we are going to take a look at confidence intervals and margin of error. Here, we are aiming for 95% confidence.\n",
    "\n",
    "Thus, we can say that we are 95% confident that: the human body temperature is 98.25 ± 1.44 degrees F or is between 96.81 to 99.68 degrees F.\n",
    "\n",
    "Anything outside those intervals is considered statistically \"abnormal\"."
   ]
  },
  {
   "cell_type": "code",
   "execution_count": 10,
   "metadata": {},
   "outputs": [
    {
     "data": {
      "text/plain": [
       "98.24923076923078"
      ]
     },
     "execution_count": 10,
     "metadata": {},
     "output_type": "execute_result"
    }
   ],
   "source": [
    "df.temperature.mean()"
   ]
  },
  {
   "cell_type": "code",
   "execution_count": 11,
   "metadata": {},
   "outputs": [
    {
     "data": {
      "text/plain": [
       "(96.812218185403111, 99.686243353058444)"
      ]
     },
     "execution_count": 11,
     "metadata": {},
     "output_type": "execute_result"
    }
   ],
   "source": [
    "CI_low, CI_high = stats.norm.interval(0.95, loc=df.temperature.mean(), scale=df.temperature.std())\n",
    "CI_low, CI_high"
   ]
  },
  {
   "cell_type": "code",
   "execution_count": 12,
   "metadata": {},
   "outputs": [
    {
     "data": {
      "text/plain": [
       "1.4370125838276664"
      ]
     },
     "execution_count": 12,
     "metadata": {},
     "output_type": "execute_result"
    }
   ],
   "source": [
    "margin_of_error = float(df.temperature.mean() - CI_low)\n",
    "margin_of_error"
   ]
  },
  {
   "cell_type": "markdown",
   "metadata": {},
   "source": [
    "## Is there at difference between male and female body temperature?"
   ]
  },
  {
   "cell_type": "markdown",
   "metadata": {},
   "source": [
    "Let's try a 2-sample t-test to see if male body temperatures are significantly different compared to female body temperatures.\n",
    "\n",
    "Null Hypothesis: Males and females have the same body temperature. [no difference in mean]\n",
    "\n",
    "Alternative Hypothesis: Males and females have difference body temperatures. [difference in mean]\n",
    "\n",
    "Since our p-value is less than 0.05, we can reject our null hypothesis with 95% confidence."
   ]
  },
  {
   "cell_type": "code",
   "execution_count": 13,
   "metadata": {},
   "outputs": [
    {
     "data": {
      "text/plain": [
       "Ttest_indResult(statistic=-2.2854345381656103, pvalue=0.023931883122395609)"
      ]
     },
     "execution_count": 13,
     "metadata": {},
     "output_type": "execute_result"
    }
   ],
   "source": [
    "temp_gender_df = df[['temperature', 'gender']]\n",
    "male_temp = temp_gender_df[temp_gender_df.gender=='M']\n",
    "female_temp = temp_gender_df[temp_gender_df.gender=='F']\n",
    "stats.ttest_ind(male_temp['temperature'],female_temp['temperature'])"
   ]
  },
  {
   "cell_type": "code",
   "execution_count": 14,
   "metadata": {},
   "outputs": [
    {
     "data": {
      "text/plain": [
       "<matplotlib.legend.Legend at 0x2904b465a58>"
      ]
     },
     "execution_count": 14,
     "metadata": {},
     "output_type": "execute_result"
    },
    {
     "data": {
      "image/png": "[encoded data removed]",
      "text/plain": [
       "<matplotlib.figure.Figure at 0x2904b465978>"
      ]
     },
     "metadata": {},
     "output_type": "display_data"
    }
   ],
   "source": [
    "sns.distplot(male_temp['temperature'], label='male')\n",
    "sns.distplot(female_temp['temperature'], label='female')\n",
    "plt.legend()"
   ]
  },
  {
   "cell_type": "markdown",
   "metadata": {},
   "source": [
    "# Conclusions"
   ]
  },
  {
   "cell_type": "markdown",
   "metadata": {},
   "source": [
    "## What is the True Normal Human Body Temperature?\n",
    "    The true body normal human body temperature is 98.25 ± 1.44 degrees F with 95% confidence.\n",
    "   \n",
    "## Is the distribution of body temperatures normal?\n",
    "    For this dataset, yes.\n",
    "    \n",
    "## Is the sample size large?\n",
    "    Assuming that the population size is about 1 million people, we can say that it is with 90% confidence.\n",
    "    \n",
    "## Are the observations independent?\n",
    "    Yes, body temperatures are independent to heartrate.\n",
    "    \n",
    "## Is the true population mean really 98.6 degrees F?\n",
    "    No. The true population is less than 98.6 degrees F with 99% confidence.\n",
    "    \n",
    "## At what temperature should we consider someone's temperature to be \"abnormal\"?\n",
    "    Statistically, anything above or below 96.81 to 99.68 degrees F at 95% confidence.\n",
    "    \n",
    "## Is there at difference between male and female body temperature?\n",
    "    Yes. Females are warmer than males with 95% confidence. "
   ]
  },
  {
   "cell_type": "markdown",
   "metadata": {},
   "source": [
    "# Discussion"
   ]
  },
  {
   "cell_type": "markdown",
   "metadata": {},
   "source": [
    "37 degrees C or 98.6 degrees F is a very fair estimate for a study published in the 1800's. However, with all of the statistics that we have today, we can do better than that. We found the true normal body temperature with confidence. We ensured that our data was normally distributed. We checked that our sample size was large enough to represent at least 1 million people. We concluded that less than the published 98.6 degrees F, with confidence. We also found what we can consider \"abnormal\" temperatures. Finally, we even concluded that females are warmer than males. This study is showing how we can consistently make improvements to research studies in the past. Even though the past estimate was very close, we were able to make it even better with what we have today."
   ]
  },
  {
   "cell_type": "code",
   "execution_count": null,
   "metadata": {
    "collapsed": true
   },
   "outputs": [],
   "source": []
  },
  {
   "cell_type": "code",
   "execution_count": null,
   "metadata": {
    "collapsed": true
   },
   "outputs": [],
   "source": []
  },
  {
   "cell_type": "code",
   "execution_count": null,
   "metadata": {
    "collapsed": true
   },
   "outputs": [],
   "source": []
  }
 ],
 "metadata": {
  "kernelspec": {
   "display_name": "Python 3",
   "language": "python",
   "name": "python3"
  },
  "language_info": {
   "codemirror_mode": {
    "name": "ipython",
    "version": 3
   },
   "file_extension": ".py",
   "mimetype": "text/x-python",
   "name": "python",
   "nbconvert_exporter": "python",
   "pygments_lexer": "ipython3",
   "version": "3.6.1"
  }
 },
 "nbformat": 4,
 "nbformat_minor": 1
}
